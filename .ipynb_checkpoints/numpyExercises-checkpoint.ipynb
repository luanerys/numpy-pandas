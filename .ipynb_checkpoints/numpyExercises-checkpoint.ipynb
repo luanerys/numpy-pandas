{
 "cells": [
  {
   "cell_type": "code",
   "execution_count": 1,
   "metadata": {},
   "outputs": [],
   "source": [
    "import numpy as np"
   ]
  },
  {
   "cell_type": "code",
   "execution_count": 2,
   "metadata": {},
   "outputs": [],
   "source": [
    "vgsales = np.genfromtxt(r'C:\\Users\\Luana\\Downloads\\numpy-pandas_LuanaAtv2\\dataset\\vgsales.csv', delimiter=',', dtype='|S20', encoding=None, skip_header=1)"
   ]
  },
  {
   "cell_type": "code",
   "execution_count": 3,
   "metadata": {},
   "outputs": [],
   "source": [
    "def getGenres(vgsales):\n",
    "    genres = vgsales[:, 4].astype('str')\n",
    "    return np.unique(genres, return_counts=True)"
   ]
  },
  {
   "cell_type": "code",
   "execution_count": 5,
   "metadata": {},
   "outputs": [],
   "source": [
    "def getTotalForPublisher(vgsales):\n",
    "    total = np.count_nonzero(vgsales[:, 5].astype('str') == 'Nintendo')\n",
    "    print(f'Há um total de {total:d} jogos da Nintendo no ranking')\n",
    "    nintendo_games = (vgsales[:, 5].astype('str') == 'Nintendo')\n",
    "    for x in vgsales[nintendo_games, 0]:\n",
    "        print(x)"
   ]
  },
  {
   "cell_type": "code",
   "execution_count": 7,
   "metadata": {},
   "outputs": [],
   "source": [
    "def sortbyPlatform(vgsales):\n",
    "    orderedPlatforms = np.sort(vgsales[:, 2])\n",
    "    for x in orderedPlatforms:\n",
    "        print(x)"
   ]
  },
  {
   "cell_type": "code",
   "execution_count": 9,
   "metadata": {},
   "outputs": [],
   "source": [
    "def top10sales(vgsales, quantity=9):\n",
    "    print(vgsales[:quantity + 1])"
   ]
  },
  {
   "cell_type": "code",
   "execution_count": 14,
   "metadata": {},
   "outputs": [],
   "source": [
    "def getGlobalSales(vgsales):\n",
    "    return vgsales[:, 10].astype('float')"
   ]
  },
  {
   "cell_type": "code",
   "execution_count": 15,
   "metadata": {},
   "outputs": [],
   "source": [
    "def getSummerizeGlobalSales(vgsales):\n",
    "    prices = getGlobalSales(vgsales)\n",
    "    print(f\"Preço Médio: {prices.mean():.2f}\")\n",
    "    print(f\"Preço Mediano: {np.median(prices):.2f}\")\n",
    "    print(f\"25th Percentil: {np.percentile(prices, 25):.2f}\")\n",
    "    print(f\"75th Percentil: {np.percentile(prices, 75):.2f}\")"
   ]
  },
  {
   "cell_type": "code",
   "execution_count": null,
   "metadata": {},
   "outputs": [],
   "source": []
  }
 ],
 "metadata": {
  "kernelspec": {
   "display_name": "Python 3",
   "language": "python",
   "name": "python3"
  },
  "language_info": {
   "codemirror_mode": {
    "name": "ipython",
    "version": 3
   },
   "file_extension": ".py",
   "mimetype": "text/x-python",
   "name": "python",
   "nbconvert_exporter": "python",
   "pygments_lexer": "ipython3",
   "version": "3.8.5"
  }
 },
 "nbformat": 4,
 "nbformat_minor": 4
}
